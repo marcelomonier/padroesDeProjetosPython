{
  "nbformat": 4,
  "nbformat_minor": 0,
  "metadata": {
    "colab": {
      "name": "PPComp_Chain_of_Responsibility.ipynb",
      "provenance": []
    },
    "kernelspec": {
      "name": "python3",
      "display_name": "Python 3"
    },
    "language_info": {
      "name": "python"
    }
  },
  "cells": [
    {
      "cell_type": "code",
      "metadata": {
        "id": "JEwTyJ_j0E3s"
      },
      "source": [
        "class DescontoCincoItens:\n",
        "  def __init__(self, proximo_desconto):\n",
        "    self.__proximo_desconto = proximo_desconto\n",
        "\n",
        "  def calcula(self, orcamento):\n",
        "    if orcamento.total_itens > 5:\n",
        "      return orcamento.valor * 0.1\n",
        "    return self.__proximo_desconto.calcula(orcamento)\n",
        "\n",
        "class DescontoMaisDeQuinhentosReais:\n",
        "  def __init__(self, proximo_desconto):\n",
        "    self.__proximo_desconto = proximo_desconto\n",
        "\n",
        "  def calcula(self, orcamento):\n",
        "    if orcamento.valor > 500.0:\n",
        "      return orcamento.valor * 0.07\n",
        "    return self.__proximo_desconto.calcula(orcamento)\n",
        "\n",
        "\n",
        "class SemDesconto:\n",
        "  def calcula(self, orcamento):\n",
        "    return 0"
      ],
      "execution_count": 1,
      "outputs": []
    },
    {
      "cell_type": "code",
      "metadata": {
        "id": "3dGFC2l90LQt"
      },
      "source": [
        "class Orcamento:\n",
        "  def __init__(self):\n",
        "    self.__itens = list()\n",
        "\n",
        "  @property\n",
        "  def valor(self):\n",
        "    return sum([item.valor for item in self.__itens])\n",
        "\n",
        "  def obter_itens(self):\n",
        "    return tuple(self.__itens)\n",
        "\n",
        "  @property\n",
        "  def total_itens(self):\n",
        "    return len(self.__itens)\n",
        "\n",
        "  def adiciona_item(self, item):\n",
        "    self.__itens.append(item)\n",
        "\n",
        "\n",
        "class Item:\n",
        "  def __init__(self, nome, valor):\n",
        "    self.__nome = nome\n",
        "    self.__valor = valor\n",
        "\n",
        "  @property\n",
        "  def valor(self):\n",
        "    return self.__valor\n",
        "\n",
        "  @property\n",
        "  def nome(self):\n",
        "    return self.__nome"
      ],
      "execution_count": 2,
      "outputs": []
    },
    {
      "cell_type": "code",
      "metadata": {
        "colab": {
          "base_uri": "https://localhost:8080/"
        },
        "id": "B-v_wdhD0P5a",
        "outputId": "8db2a0e9-e2dd-44ac-ee46-c0d4836cabf4"
      },
      "source": [
        "class CalculadorDescontos:\n",
        "  def calcula(self, orcamento):\n",
        "    return DescontoCincoItens(DescontoMaisDeQuinhentosReais(SemDesconto())).calcula(orcamento)\n",
        "\n",
        "\n",
        "if __name__ == '__main__':\n",
        "\n",
        "  \n",
        "\n",
        "  orcamento = Orcamento()\n",
        "\n",
        "  orcamento.adiciona_item(Item('item 0', 100.0))\n",
        "  orcamento.adiciona_item(Item('item 1', 100.0))\n",
        "  orcamento.adiciona_item(Item('item 2', 100.0))\n",
        "  orcamento.adiciona_item(Item('item 3', 100.0))\n",
        "  orcamento.adiciona_item(Item('item 4', 100.0))\n",
        "  orcamento.adiciona_item(Item('item 5', 100.0))\n",
        "  orcamento.adiciona_item(Item('item 6', 100.0))\n",
        "  orcamento.adiciona_item(Item('item 7', 100.0))\n",
        "  orcamento.adiciona_item(Item('item 8', 100.0))\n",
        "  orcamento.adiciona_item(Item('item 9', 100.0))\n",
        "\n",
        "  print(orcamento.valor)\n",
        "\n",
        "  calculator = CalculadorDescontos()\n",
        "\n",
        "  desconto = calculator.calcula(orcamento)\n",
        "\n",
        "  print(f'Desconto calculado {desconto}')"
      ],
      "execution_count": 3,
      "outputs": [
        {
          "output_type": "stream",
          "text": [
            "1000.0\n",
            "Desconto calculado 100.0\n"
          ],
          "name": "stdout"
        }
      ]
    },
    {
      "cell_type": "code",
      "metadata": {
        "colab": {
          "base_uri": "https://localhost:8080/"
        },
        "id": "UWm-L_rI0Rap",
        "outputId": "6ac679f7-d966-41e6-a2ec-485e66033c57"
      },
      "source": [
        "orcamento2 = Orcamento()\n",
        "\n",
        "orcamento2.adiciona_item(Item('item 20', 30.0))\n",
        "orcamento2.adiciona_item(Item('item 21', 30.0))\n",
        "orcamento2.adiciona_item(Item('item 22', 930.0))\n",
        "orcamento2.adiciona_item(Item('item 23', 930.0))\n",
        "orcamento2.adiciona_item(Item('item 24', 930.0))\n",
        "orcamento2.adiciona_item(Item('item 25', 930.0))\n",
        "\n",
        "print(orcamento2.valor)\n",
        "\n",
        "calculator2 = CalculadorDescontos()\n",
        "\n",
        "desconto2 = calculator2.calcula(orcamento2)\n",
        "\n",
        "print(f'Desconto calculado: R${desconto2}')"
      ],
      "execution_count": 4,
      "outputs": [
        {
          "output_type": "stream",
          "text": [
            "3780.0\n",
            "Desconto calculado: R$378.0\n"
          ],
          "name": "stdout"
        }
      ]
    }
  ]
}